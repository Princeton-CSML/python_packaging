{
 "cells": [
  {
   "cell_type": "markdown",
   "metadata": {},
   "source": [
    "# From modules to packages"
   ]
  },
  {
   "cell_type": "markdown",
   "metadata": {},
   "source": [
    "Note: We will be installing a couple of packages (`pytest`, `build`, `twine`) in this lesson, so it's best to do all this inside a new conda environment, not your system python or base conda environment. **Always use the latest pip, no exceptions!**\n",
    "\n",
    "First, a tiny alias we define so we can clearly see folder structure. This is roughly equivalent to the 'tree' command in Linux."
   ]
  },
  {
   "cell_type": "code",
   "execution_count": 1,
   "metadata": {},
   "outputs": [],
   "source": [
    "%alias tree find %s -print | sed -e 's;[^/]*/;|____;g;s;____|; |;g'"
   ]
  },
  {
   "cell_type": "code",
   "execution_count": 2,
   "metadata": {},
   "outputs": [
    {
     "name": "stdout",
     "output_type": "stream",
     "text": [
      "Requirement already satisfied: pip in /Users/vineetbansal/opt/miniconda3/envs/packaging/lib/python3.9/site-packages (21.2.4)\n",
      "Requirement already satisfied: pytest in /Users/vineetbansal/opt/miniconda3/envs/packaging/lib/python3.9/site-packages (6.2.5)\n",
      "Requirement already satisfied: build in /Users/vineetbansal/opt/miniconda3/envs/packaging/lib/python3.9/site-packages (0.7.0)\n",
      "Requirement already satisfied: twine in /Users/vineetbansal/opt/miniconda3/envs/packaging/lib/python3.9/site-packages (3.4.2)\n",
      "Requirement already satisfied: iniconfig in /Users/vineetbansal/opt/miniconda3/envs/packaging/lib/python3.9/site-packages (from pytest) (1.1.1)\n",
      "Requirement already satisfied: toml in /Users/vineetbansal/opt/miniconda3/envs/packaging/lib/python3.9/site-packages (from pytest) (0.10.2)\n",
      "Requirement already satisfied: pluggy<2.0,>=0.12 in /Users/vineetbansal/opt/miniconda3/envs/packaging/lib/python3.9/site-packages (from pytest) (1.0.0)\n",
      "Requirement already satisfied: packaging in /Users/vineetbansal/opt/miniconda3/envs/packaging/lib/python3.9/site-packages (from pytest) (21.0)\n",
      "Requirement already satisfied: py>=1.8.2 in /Users/vineetbansal/opt/miniconda3/envs/packaging/lib/python3.9/site-packages (from pytest) (1.10.0)\n",
      "Requirement already satisfied: attrs>=19.2.0 in /Users/vineetbansal/opt/miniconda3/envs/packaging/lib/python3.9/site-packages (from pytest) (21.2.0)\n",
      "Requirement already satisfied: pep517>=0.9.1 in /Users/vineetbansal/opt/miniconda3/envs/packaging/lib/python3.9/site-packages (from build) (0.11.0)\n",
      "Requirement already satisfied: tomli>=1.0.0 in /Users/vineetbansal/opt/miniconda3/envs/packaging/lib/python3.9/site-packages (from build) (1.2.1)\n",
      "Requirement already satisfied: requests>=2.20 in /Users/vineetbansal/opt/miniconda3/envs/packaging/lib/python3.9/site-packages (from twine) (2.26.0)\n",
      "Requirement already satisfied: importlib-metadata>=3.6 in /Users/vineetbansal/opt/miniconda3/envs/packaging/lib/python3.9/site-packages (from twine) (4.8.1)\n",
      "Requirement already satisfied: requests-toolbelt!=0.9.0,>=0.8.0 in /Users/vineetbansal/opt/miniconda3/envs/packaging/lib/python3.9/site-packages (from twine) (0.9.1)\n",
      "Requirement already satisfied: colorama>=0.4.3 in /Users/vineetbansal/opt/miniconda3/envs/packaging/lib/python3.9/site-packages (from twine) (0.4.4)\n",
      "Requirement already satisfied: keyring>=15.1 in /Users/vineetbansal/opt/miniconda3/envs/packaging/lib/python3.9/site-packages (from twine) (23.2.1)\n",
      "Requirement already satisfied: readme-renderer>=21.0 in /Users/vineetbansal/opt/miniconda3/envs/packaging/lib/python3.9/site-packages (from twine) (29.0)\n",
      "Requirement already satisfied: pkginfo>=1.4.2 in /Users/vineetbansal/opt/miniconda3/envs/packaging/lib/python3.9/site-packages (from twine) (1.7.1)\n",
      "Requirement already satisfied: rfc3986>=1.4.0 in /Users/vineetbansal/opt/miniconda3/envs/packaging/lib/python3.9/site-packages (from twine) (1.5.0)\n",
      "Requirement already satisfied: tqdm>=4.14 in /Users/vineetbansal/opt/miniconda3/envs/packaging/lib/python3.9/site-packages (from twine) (4.62.3)\n",
      "Requirement already satisfied: zipp>=0.5 in /Users/vineetbansal/opt/miniconda3/envs/packaging/lib/python3.9/site-packages (from importlib-metadata>=3.6->twine) (3.5.1)\n",
      "Requirement already satisfied: pyparsing>=2.0.2 in /Users/vineetbansal/opt/miniconda3/envs/packaging/lib/python3.9/site-packages (from packaging->pytest) (2.4.7)\n",
      "Requirement already satisfied: Pygments>=2.5.1 in /Users/vineetbansal/opt/miniconda3/envs/packaging/lib/python3.9/site-packages (from readme-renderer>=21.0->twine) (2.10.0)\n",
      "Requirement already satisfied: docutils>=0.13.1 in /Users/vineetbansal/opt/miniconda3/envs/packaging/lib/python3.9/site-packages (from readme-renderer>=21.0->twine) (0.17.1)\n",
      "Requirement already satisfied: six in /Users/vineetbansal/opt/miniconda3/envs/packaging/lib/python3.9/site-packages (from readme-renderer>=21.0->twine) (1.16.0)\n",
      "Requirement already satisfied: bleach>=2.1.0 in /Users/vineetbansal/opt/miniconda3/envs/packaging/lib/python3.9/site-packages (from readme-renderer>=21.0->twine) (4.1.0)\n",
      "Requirement already satisfied: webencodings in /Users/vineetbansal/opt/miniconda3/envs/packaging/lib/python3.9/site-packages (from bleach>=2.1.0->readme-renderer>=21.0->twine) (0.5.1)\n",
      "Requirement already satisfied: charset-normalizer~=2.0.0 in /Users/vineetbansal/opt/miniconda3/envs/packaging/lib/python3.9/site-packages (from requests>=2.20->twine) (2.0.6)\n",
      "Requirement already satisfied: idna<4,>=2.5 in /Users/vineetbansal/opt/miniconda3/envs/packaging/lib/python3.9/site-packages (from requests>=2.20->twine) (3.2)\n",
      "Requirement already satisfied: certifi>=2017.4.17 in /Users/vineetbansal/opt/miniconda3/envs/packaging/lib/python3.9/site-packages (from requests>=2.20->twine) (2021.5.30)\n",
      "Requirement already satisfied: urllib3<1.27,>=1.21.1 in /Users/vineetbansal/opt/miniconda3/envs/packaging/lib/python3.9/site-packages (from requests>=2.20->twine) (1.26.7)\n"
     ]
    }
   ],
   "source": [
    "%%bash\n",
    "\n",
    "pip install --upgrade pip\n",
    "pip install pytest build twine"
   ]
  },
  {
   "cell_type": "markdown",
   "metadata": {},
   "source": [
    "The folder `00-walrus-package/` has the bare-minimum folder structure that we can respectably call a `package`. \n",
    "\n",
    "- It has the package source (of course).\n",
    "- Our package has a version.\n",
    "- Our package comes with tests."
   ]
  },
  {
   "cell_type": "code",
   "execution_count": 5,
   "metadata": {},
   "outputs": [
    {
     "name": "stdout",
     "output_type": "stream",
     "text": [
      "00-walrus-package\n",
      "|____test\n",
      "| |____test_basic.py\n",
      "| |______pycache__\n",
      "| | |____test_basic.cpython-39-pytest-6.2.5.pyc\n",
      "|____src\n",
      "| |____walrus\n",
      "| | |______init__.py\n",
      "| | |______pycache__\n",
      "| | | |______init__.cpython-39.pyc\n"
     ]
    }
   ],
   "source": [
    "tree 00-walrus-package"
   ]
  },
  {
   "cell_type": "markdown",
   "metadata": {},
   "source": [
    "Our package is called `walrus`. All its source is in a `src/` folder (Later on it will become clear why we have a `src/walrus/` folder and not just a `walrus/` folder), and tests inside the `test/` folder.\n",
    "\n",
    "**What we want to hand over to our users is this entire `00-walrus-package/` folder, so they have our package source, as well as the tests to verify that our package is working correctly.**\n",
    "\n",
    "So, how can we hand this over (*create a distribution*)?\n",
    "\n",
    "- Zip up the `00-walrus-package/` folder and email it/put it up on the server.\n",
    "- Point users to our Github page so they can clone our repo.\n",
    "- Make everything (*the distribution archive*) available at a common marketplace - The Python Packaging Index (PyPI)\n",
    "\n",
    "The last option seems most attractive (`pip install walrus` is as simple as it can get). **In addition, there are some HUGE advantages to it**:\n",
    "\n",
    "- For complicated projects involving C/C++ code, we can do all the preparatory work (compilation/testing etc.) ahead of time such that `pip install walrus` works regardless of ones operating system or python version.\n",
    "- For any other packages that our code depends on (*dependencies*, e.g. numpy/pandas/..), a `pip install walrus` will automatically install those dependencies for the user, and they don't have to worry about any of those details."
   ]
  },
  {
   "cell_type": "markdown",
   "metadata": {},
   "source": [
    "# Doing things (mostly) manually\n",
    "\n",
    "In what follows, we'll be doing things largely manually so we can inspect files under the hood and understand what's going on. There are (arguably) easier ways to develop/upload packages, which we'll see soon.\n",
    "\n",
    "## Testing our package under development\n",
    "\n",
    "Our *tests* currently just ensure that our package has a version, so users can do a `import walrus; print(walrus.__version__);`. Let's make sure our tests pass."
   ]
  },
  {
   "cell_type": "code",
   "execution_count": 6,
   "metadata": {},
   "outputs": [
    {
     "name": "stdout",
     "output_type": "stream",
     "text": [
      "============================= test session starts ==============================\n",
      "platform darwin -- Python 3.9.7, pytest-6.2.5, py-1.10.0, pluggy-1.0.0\n",
      "rootdir: /Users/vineetbansal/git_checkouts/python_packaging/notebooks/00-walrus-package\n",
      "plugins: anyio-3.3.2\n",
      "collected 0 items / 1 error\n",
      "\n",
      "==================================== ERRORS ====================================\n",
      "_____________________ ERROR collecting test/test_basic.py ______________________\n",
      "ImportError while importing test module '/Users/vineetbansal/git_checkouts/python_packaging/notebooks/00-walrus-package/test/test_basic.py'.\n",
      "Hint: make sure your test modules/packages have valid Python names.\n",
      "Traceback:\n",
      "../../../../opt/miniconda3/envs/packaging/lib/python3.9/importlib/__init__.py:127: in import_module\n",
      "    return _bootstrap._gcd_import(name[level:], package, level)\n",
      "test/test_basic.py:1: in <module>\n",
      "    import walrus\n",
      "E   ModuleNotFoundError: No module named 'walrus'\n",
      "=========================== short test summary info ============================\n",
      "ERROR test/test_basic.py\n",
      "!!!!!!!!!!!!!!!!!!!! Interrupted: 1 error during collection !!!!!!!!!!!!!!!!!!!!\n",
      "=============================== 1 error in 0.12s ===============================\n"
     ]
    },
    {
     "ename": "CalledProcessError",
     "evalue": "Command 'b\"\\ncd 00-walrus-package/\\n\\n# We don't HAVE the specify the folder containing our tests (test/)\\n# but we'll do so anyway to make it easier for pytest to do its job\\npytest test\\n\"' returned non-zero exit status 2.",
     "output_type": "error",
     "traceback": [
      "\u001b[0;31m---------------------------------------------------------------------------\u001b[0m",
      "\u001b[0;31mCalledProcessError\u001b[0m                        Traceback (most recent call last)",
      "\u001b[0;32m/var/folders/9d/cx76lpfs50gglkyg38jgdmhw0000gn/T/ipykernel_69384/3054442444.py\u001b[0m in \u001b[0;36m<module>\u001b[0;34m\u001b[0m\n\u001b[0;32m----> 1\u001b[0;31m \u001b[0mget_ipython\u001b[0m\u001b[0;34m(\u001b[0m\u001b[0;34m)\u001b[0m\u001b[0;34m.\u001b[0m\u001b[0mrun_cell_magic\u001b[0m\u001b[0;34m(\u001b[0m\u001b[0;34m'bash'\u001b[0m\u001b[0;34m,\u001b[0m \u001b[0;34m''\u001b[0m\u001b[0;34m,\u001b[0m \u001b[0;34m\"\\ncd 00-walrus-package/\\n\\n# We don't HAVE the specify the folder containing our tests (test/)\\n# but we'll do so anyway to make it easier for pytest to do its job\\npytest test\\n\"\u001b[0m\u001b[0;34m)\u001b[0m\u001b[0;34m\u001b[0m\u001b[0;34m\u001b[0m\u001b[0m\n\u001b[0m",
      "\u001b[0;32m~/opt/miniconda3/envs/packaging/lib/python3.9/site-packages/IPython/core/interactiveshell.py\u001b[0m in \u001b[0;36mrun_cell_magic\u001b[0;34m(self, magic_name, line, cell)\u001b[0m\n\u001b[1;32m   2404\u001b[0m             \u001b[0;32mwith\u001b[0m \u001b[0mself\u001b[0m\u001b[0;34m.\u001b[0m\u001b[0mbuiltin_trap\u001b[0m\u001b[0;34m:\u001b[0m\u001b[0;34m\u001b[0m\u001b[0;34m\u001b[0m\u001b[0m\n\u001b[1;32m   2405\u001b[0m                 \u001b[0margs\u001b[0m \u001b[0;34m=\u001b[0m \u001b[0;34m(\u001b[0m\u001b[0mmagic_arg_s\u001b[0m\u001b[0;34m,\u001b[0m \u001b[0mcell\u001b[0m\u001b[0;34m)\u001b[0m\u001b[0;34m\u001b[0m\u001b[0;34m\u001b[0m\u001b[0m\n\u001b[0;32m-> 2406\u001b[0;31m                 \u001b[0mresult\u001b[0m \u001b[0;34m=\u001b[0m \u001b[0mfn\u001b[0m\u001b[0;34m(\u001b[0m\u001b[0;34m*\u001b[0m\u001b[0margs\u001b[0m\u001b[0;34m,\u001b[0m \u001b[0;34m**\u001b[0m\u001b[0mkwargs\u001b[0m\u001b[0;34m)\u001b[0m\u001b[0;34m\u001b[0m\u001b[0;34m\u001b[0m\u001b[0m\n\u001b[0m\u001b[1;32m   2407\u001b[0m             \u001b[0;32mreturn\u001b[0m \u001b[0mresult\u001b[0m\u001b[0;34m\u001b[0m\u001b[0;34m\u001b[0m\u001b[0m\n\u001b[1;32m   2408\u001b[0m \u001b[0;34m\u001b[0m\u001b[0m\n",
      "\u001b[0;32m~/opt/miniconda3/envs/packaging/lib/python3.9/site-packages/IPython/core/magics/script.py\u001b[0m in \u001b[0;36mnamed_script_magic\u001b[0;34m(line, cell)\u001b[0m\n\u001b[1;32m    140\u001b[0m             \u001b[0;32melse\u001b[0m\u001b[0;34m:\u001b[0m\u001b[0;34m\u001b[0m\u001b[0;34m\u001b[0m\u001b[0m\n\u001b[1;32m    141\u001b[0m                 \u001b[0mline\u001b[0m \u001b[0;34m=\u001b[0m \u001b[0mscript\u001b[0m\u001b[0;34m\u001b[0m\u001b[0;34m\u001b[0m\u001b[0m\n\u001b[0;32m--> 142\u001b[0;31m             \u001b[0;32mreturn\u001b[0m \u001b[0mself\u001b[0m\u001b[0;34m.\u001b[0m\u001b[0mshebang\u001b[0m\u001b[0;34m(\u001b[0m\u001b[0mline\u001b[0m\u001b[0;34m,\u001b[0m \u001b[0mcell\u001b[0m\u001b[0;34m)\u001b[0m\u001b[0;34m\u001b[0m\u001b[0;34m\u001b[0m\u001b[0m\n\u001b[0m\u001b[1;32m    143\u001b[0m \u001b[0;34m\u001b[0m\u001b[0m\n\u001b[1;32m    144\u001b[0m         \u001b[0;31m# write a basic docstring:\u001b[0m\u001b[0;34m\u001b[0m\u001b[0;34m\u001b[0m\u001b[0m\n",
      "\u001b[0;32m~/opt/miniconda3/envs/packaging/lib/python3.9/site-packages/decorator.py\u001b[0m in \u001b[0;36mfun\u001b[0;34m(*args, **kw)\u001b[0m\n\u001b[1;32m    230\u001b[0m             \u001b[0;32mif\u001b[0m \u001b[0;32mnot\u001b[0m \u001b[0mkwsyntax\u001b[0m\u001b[0;34m:\u001b[0m\u001b[0;34m\u001b[0m\u001b[0;34m\u001b[0m\u001b[0m\n\u001b[1;32m    231\u001b[0m                 \u001b[0margs\u001b[0m\u001b[0;34m,\u001b[0m \u001b[0mkw\u001b[0m \u001b[0;34m=\u001b[0m \u001b[0mfix\u001b[0m\u001b[0;34m(\u001b[0m\u001b[0margs\u001b[0m\u001b[0;34m,\u001b[0m \u001b[0mkw\u001b[0m\u001b[0;34m,\u001b[0m \u001b[0msig\u001b[0m\u001b[0;34m)\u001b[0m\u001b[0;34m\u001b[0m\u001b[0;34m\u001b[0m\u001b[0m\n\u001b[0;32m--> 232\u001b[0;31m             \u001b[0;32mreturn\u001b[0m \u001b[0mcaller\u001b[0m\u001b[0;34m(\u001b[0m\u001b[0mfunc\u001b[0m\u001b[0;34m,\u001b[0m \u001b[0;34m*\u001b[0m\u001b[0;34m(\u001b[0m\u001b[0mextras\u001b[0m \u001b[0;34m+\u001b[0m \u001b[0margs\u001b[0m\u001b[0;34m)\u001b[0m\u001b[0;34m,\u001b[0m \u001b[0;34m**\u001b[0m\u001b[0mkw\u001b[0m\u001b[0;34m)\u001b[0m\u001b[0;34m\u001b[0m\u001b[0;34m\u001b[0m\u001b[0m\n\u001b[0m\u001b[1;32m    233\u001b[0m     \u001b[0mfun\u001b[0m\u001b[0;34m.\u001b[0m\u001b[0m__name__\u001b[0m \u001b[0;34m=\u001b[0m \u001b[0mfunc\u001b[0m\u001b[0;34m.\u001b[0m\u001b[0m__name__\u001b[0m\u001b[0;34m\u001b[0m\u001b[0;34m\u001b[0m\u001b[0m\n\u001b[1;32m    234\u001b[0m     \u001b[0mfun\u001b[0m\u001b[0;34m.\u001b[0m\u001b[0m__doc__\u001b[0m \u001b[0;34m=\u001b[0m \u001b[0mfunc\u001b[0m\u001b[0;34m.\u001b[0m\u001b[0m__doc__\u001b[0m\u001b[0;34m\u001b[0m\u001b[0;34m\u001b[0m\u001b[0m\n",
      "\u001b[0;32m~/opt/miniconda3/envs/packaging/lib/python3.9/site-packages/IPython/core/magic.py\u001b[0m in \u001b[0;36m<lambda>\u001b[0;34m(f, *a, **k)\u001b[0m\n\u001b[1;32m    185\u001b[0m     \u001b[0;31m# but it's overkill for just that one bit of state.\u001b[0m\u001b[0;34m\u001b[0m\u001b[0;34m\u001b[0m\u001b[0m\n\u001b[1;32m    186\u001b[0m     \u001b[0;32mdef\u001b[0m \u001b[0mmagic_deco\u001b[0m\u001b[0;34m(\u001b[0m\u001b[0marg\u001b[0m\u001b[0;34m)\u001b[0m\u001b[0;34m:\u001b[0m\u001b[0;34m\u001b[0m\u001b[0;34m\u001b[0m\u001b[0m\n\u001b[0;32m--> 187\u001b[0;31m         \u001b[0mcall\u001b[0m \u001b[0;34m=\u001b[0m \u001b[0;32mlambda\u001b[0m \u001b[0mf\u001b[0m\u001b[0;34m,\u001b[0m \u001b[0;34m*\u001b[0m\u001b[0ma\u001b[0m\u001b[0;34m,\u001b[0m \u001b[0;34m**\u001b[0m\u001b[0mk\u001b[0m\u001b[0;34m:\u001b[0m \u001b[0mf\u001b[0m\u001b[0;34m(\u001b[0m\u001b[0;34m*\u001b[0m\u001b[0ma\u001b[0m\u001b[0;34m,\u001b[0m \u001b[0;34m**\u001b[0m\u001b[0mk\u001b[0m\u001b[0;34m)\u001b[0m\u001b[0;34m\u001b[0m\u001b[0;34m\u001b[0m\u001b[0m\n\u001b[0m\u001b[1;32m    188\u001b[0m \u001b[0;34m\u001b[0m\u001b[0m\n\u001b[1;32m    189\u001b[0m         \u001b[0;32mif\u001b[0m \u001b[0mcallable\u001b[0m\u001b[0;34m(\u001b[0m\u001b[0marg\u001b[0m\u001b[0;34m)\u001b[0m\u001b[0;34m:\u001b[0m\u001b[0;34m\u001b[0m\u001b[0;34m\u001b[0m\u001b[0m\n",
      "\u001b[0;32m~/opt/miniconda3/envs/packaging/lib/python3.9/site-packages/IPython/core/magics/script.py\u001b[0m in \u001b[0;36mshebang\u001b[0;34m(self, line, cell)\u001b[0m\n\u001b[1;32m    243\u001b[0m             \u001b[0msys\u001b[0m\u001b[0;34m.\u001b[0m\u001b[0mstderr\u001b[0m\u001b[0;34m.\u001b[0m\u001b[0mflush\u001b[0m\u001b[0;34m(\u001b[0m\u001b[0;34m)\u001b[0m\u001b[0;34m\u001b[0m\u001b[0;34m\u001b[0m\u001b[0m\n\u001b[1;32m    244\u001b[0m         \u001b[0;32mif\u001b[0m \u001b[0margs\u001b[0m\u001b[0;34m.\u001b[0m\u001b[0mraise_error\u001b[0m \u001b[0;32mand\u001b[0m \u001b[0mp\u001b[0m\u001b[0;34m.\u001b[0m\u001b[0mreturncode\u001b[0m\u001b[0;34m!=\u001b[0m\u001b[0;36m0\u001b[0m\u001b[0;34m:\u001b[0m\u001b[0;34m\u001b[0m\u001b[0;34m\u001b[0m\u001b[0m\n\u001b[0;32m--> 245\u001b[0;31m             \u001b[0;32mraise\u001b[0m \u001b[0mCalledProcessError\u001b[0m\u001b[0;34m(\u001b[0m\u001b[0mp\u001b[0m\u001b[0;34m.\u001b[0m\u001b[0mreturncode\u001b[0m\u001b[0;34m,\u001b[0m \u001b[0mcell\u001b[0m\u001b[0;34m,\u001b[0m \u001b[0moutput\u001b[0m\u001b[0;34m=\u001b[0m\u001b[0mout\u001b[0m\u001b[0;34m,\u001b[0m \u001b[0mstderr\u001b[0m\u001b[0;34m=\u001b[0m\u001b[0merr\u001b[0m\u001b[0;34m)\u001b[0m\u001b[0;34m\u001b[0m\u001b[0;34m\u001b[0m\u001b[0m\n\u001b[0m\u001b[1;32m    246\u001b[0m \u001b[0;34m\u001b[0m\u001b[0m\n\u001b[1;32m    247\u001b[0m     \u001b[0;32mdef\u001b[0m \u001b[0m_run_script\u001b[0m\u001b[0;34m(\u001b[0m\u001b[0mself\u001b[0m\u001b[0;34m,\u001b[0m \u001b[0mp\u001b[0m\u001b[0;34m,\u001b[0m \u001b[0mcell\u001b[0m\u001b[0;34m,\u001b[0m \u001b[0mto_close\u001b[0m\u001b[0;34m)\u001b[0m\u001b[0;34m:\u001b[0m\u001b[0;34m\u001b[0m\u001b[0;34m\u001b[0m\u001b[0m\n",
      "\u001b[0;31mCalledProcessError\u001b[0m: Command 'b\"\\ncd 00-walrus-package/\\n\\n# We don't HAVE the specify the folder containing our tests (test/)\\n# but we'll do so anyway to make it easier for pytest to do its job\\npytest test\\n\"' returned non-zero exit status 2."
     ]
    }
   ],
   "source": [
    "%%bash\n",
    "\n",
    "cd 00-walrus-package/\n",
    "\n",
    "# We don't HAVE the specify the folder containing our tests (test/)\n",
    "# but we'll do so anyway to make it easier for pytest to do its job\n",
    "pytest test"
   ]
  },
  {
   "cell_type": "markdown",
   "metadata": {},
   "source": [
    "### What happened?\n",
    "\n",
    "Of course python cannot find our package because it is buried inside the `src/` folder. Based on what we've learnt so far, let's see what we can do to fix the situation: (we'll be using `!` to run bash commands as a shortcut)."
   ]
  },
  {
   "cell_type": "code",
   "execution_count": 7,
   "metadata": {},
   "outputs": [
    {
     "name": "stdout",
     "output_type": "stream",
     "text": [
      "\u001b[1m============================= test session starts ==============================\u001b[0m\n",
      "platform darwin -- Python 3.9.7, pytest-6.2.5, py-1.10.0, pluggy-1.0.0\n",
      "rootdir: /Users/vineetbansal/git_checkouts/python_packaging/notebooks/00-walrus-package\n",
      "plugins: anyio-3.3.2\n",
      "collected 0 items / 1 error                                                    \u001b[0m\n",
      "\n",
      "==================================== ERRORS ====================================\n",
      "\u001b[31m\u001b[1m_____________________ ERROR collecting test/test_basic.py ______________________\u001b[0m\n",
      "\u001b[31mImportError while importing test module '/Users/vineetbansal/git_checkouts/python_packaging/notebooks/00-walrus-package/test/test_basic.py'.\n",
      "Hint: make sure your test modules/packages have valid Python names.\n",
      "Traceback:\n",
      "../../../../opt/miniconda3/envs/packaging/lib/python3.9/importlib/__init__.py:127: in import_module\n",
      "    return _bootstrap._gcd_import(name[level:], package, level)\n",
      "test/test_basic.py:1: in <module>\n",
      "    import walrus\n",
      "E   ModuleNotFoundError: No module named 'walrus'\u001b[0m\n",
      "=========================== short test summary info ============================\n",
      "ERROR test/test_basic.py\n",
      "!!!!!!!!!!!!!!!!!!!! Interrupted: 1 error during collection !!!!!!!!!!!!!!!!!!!!\n",
      "\u001b[31m=============================== \u001b[31m\u001b[1m1 error\u001b[0m\u001b[31m in 0.13s\u001b[0m\u001b[31m ===============================\u001b[0m\n"
     ]
    }
   ],
   "source": [
    "!cd 00-walrus-package/ && pytest test"
   ]
  },
  {
   "cell_type": "code",
   "execution_count": 8,
   "metadata": {},
   "outputs": [
    {
     "name": "stdout",
     "output_type": "stream",
     "text": [
      "['', '/Users/vineetbansal/opt/miniconda3/envs/packaging/lib/python39.zip', '/Users/vineetbansal/opt/miniconda3/envs/packaging/lib/python3.9', '/Users/vineetbansal/opt/miniconda3/envs/packaging/lib/python3.9/lib-dynload', '/Users/vineetbansal/opt/miniconda3/envs/packaging/lib/python3.9/site-packages']\n"
     ]
    }
   ],
   "source": [
    "!cd 00-walrus-package/ && python -c \"import sys; print(sys.path)\""
   ]
  },
  {
   "cell_type": "code",
   "execution_count": 9,
   "metadata": {},
   "outputs": [
    {
     "name": "stdout",
     "output_type": "stream",
     "text": [
      "['', '/Users/vineetbansal/git_checkouts/python_packaging/notebooks/00-walrus-package/src', '/Users/vineetbansal/opt/miniconda3/envs/packaging/lib/python39.zip', '/Users/vineetbansal/opt/miniconda3/envs/packaging/lib/python3.9', '/Users/vineetbansal/opt/miniconda3/envs/packaging/lib/python3.9/lib-dynload', '/Users/vineetbansal/opt/miniconda3/envs/packaging/lib/python3.9/site-packages']\n"
     ]
    }
   ],
   "source": [
    "!cd 00-walrus-package/ && PYTHONPATH=src python -c \"import sys; print(sys.path)\""
   ]
  },
  {
   "cell_type": "code",
   "execution_count": 10,
   "metadata": {},
   "outputs": [
    {
     "name": "stdout",
     "output_type": "stream",
     "text": [
      "\u001b[1m============================= test session starts ==============================\u001b[0m\n",
      "platform darwin -- Python 3.9.7, pytest-6.2.5, py-1.10.0, pluggy-1.0.0\n",
      "rootdir: /Users/vineetbansal/git_checkouts/python_packaging/notebooks/00-walrus-package\n",
      "plugins: anyio-3.3.2\n",
      "collected 1 item                                                               \u001b[0m\n",
      "\n",
      "test/test_basic.py \u001b[32m.\u001b[0m\u001b[32m                                                     [100%]\u001b[0m\n",
      "\n",
      "\u001b[32m============================== \u001b[32m\u001b[1m1 passed\u001b[0m\u001b[32m in 0.02s\u001b[0m\u001b[32m ===============================\u001b[0m\n"
     ]
    }
   ],
   "source": [
    "!cd 00-walrus-package/ && PYTHONPATH=src pytest test"
   ]
  },
  {
   "cell_type": "markdown",
   "metadata": {},
   "source": [
    "## Building our package\n",
    "\n",
    "We'll be dealing with the `01-walrus-package/` folder from now on. Here we've added a `walrus.math.add_one` function, and added a test for it. We've also added three files - `pyproject.toml`, `setup.cfg`, and a `README.md`."
   ]
  },
  {
   "cell_type": "code",
   "execution_count": 11,
   "metadata": {},
   "outputs": [
    {
     "name": "stdout",
     "output_type": "stream",
     "text": [
      "01-walrus-package\n",
      "|____test\n",
      "| |____test_basic.py\n",
      "| |______pycache__\n",
      "| | |____test_math.cpython-39-pytest-6.2.5.pyc\n",
      "| | |____test_basic.cpython-39-pytest-6.2.5.pyc\n",
      "| |____test_math.py\n",
      "|____.pytest_cache\n",
      "| |____CACHEDIR.TAG\n",
      "| |____README.md\n",
      "| |____.gitignore\n",
      "| |____v\n",
      "| | |____cache\n",
      "| | | |____nodeids\n",
      "| | | |____lastfailed\n",
      "| | | |____stepwise\n",
      "|____dist\n",
      "| |____edu-princeton-vineetb-walrus-0.1.0.tar.gz\n",
      "| |____edu_princeton_vineetb_walrus-0.1.0-py3-none-any.whl\n",
      "|____pyproject.toml\n",
      "|____README.md\n",
      "|____setup.cfg\n",
      "|____src\n",
      "| |____edu_princeton_vineetb_walrus.egg-info\n",
      "| | |____PKG-INFO\n",
      "| | |____SOURCES.txt\n",
      "| | |____top_level.txt\n",
      "| | |____dependency_links.txt\n",
      "| |____walrus\n",
      "| | |______init__.py\n",
      "| | |____math.py\n"
     ]
    }
   ],
   "source": [
    "tree 01-walrus-package"
   ]
  },
  {
   "cell_type": "markdown",
   "metadata": {},
   "source": [
    "You may have seen other examples of packages involving a `setup.py`. Forget about those - `pyproject.toml` is the latest and greatest way of doing things (see [PEP517](https://www.python.org/dev/peps/pep-0517/)).\n",
    "\n",
    "Essentially, it tells python to use a package called `setuptools` to start packaging the project. `setuptools` in turn looks at `setup.cfg` for some metadata about our package (name, version, where to find the source code etc). The `README.md` is for a longer description of our project that we've created just to be good citizens (`setuptools` likes it if we have it)."
   ]
  },
  {
   "cell_type": "markdown",
   "metadata": {},
   "source": [
    "Go ahead and modify the package name/author/author_email/url in `setup.cfg`. *Why do you think I made the package name so complex instead of just using `walrus`*?"
   ]
  },
  {
   "cell_type": "markdown",
   "metadata": {},
   "source": [
    "Internally, `pip` creates and activates a new virtual environment, installs `setuptools` and hands over control to it. `setuptools` builds our package, and creates two things for us (*artifacts*):\n",
    "\n",
    "- The *source distribution* (`sdist`) - a `.tar.gz` file that represents all our source code.\n",
    "- The *binary wheel* (or just *wheel*) - a `.whl` file. This is a compiled/optimized version, one for each platform and python version where we ran the whole build process.\n",
    "\n",
    "Since in our case we have nothing but pure Python code (so no platform-specific stuff), the above two are mostly interchangeable. Note also that the wheel file is called `<name>-<version>-py3-none-any.whl` to indicate this platform/python-version free nature of our wheel.\n",
    "\n",
    "**It is important that we always generate the *sdist***, so that our users (or rather `pip` running on their machines), can generate the `.whl` files on their machines, if they need to. The more `.whl` files we generate on our end and make available, the better of course.\n",
    "\n",
    "For a much more detailed writeup on all this, see [An Overview of Packaging for Python](https://packaging.python.org/overview/)"
   ]
  },
  {
   "cell_type": "code",
   "execution_count": 12,
   "metadata": {},
   "outputs": [
    {
     "name": "stdout",
     "output_type": "stream",
     "text": [
      "* Creating virtualenv isolated environment...\n",
      "* Installing packages in isolated environment... (setuptools>=42, wheel)\n",
      "* Getting dependencies for sdist...\n",
      "running egg_info\n",
      "writing src/edu_princeton_vineetb_walrus.egg-info/PKG-INFO\n",
      "writing dependency_links to src/edu_princeton_vineetb_walrus.egg-info/dependency_links.txt\n",
      "writing top-level names to src/edu_princeton_vineetb_walrus.egg-info/top_level.txt\n",
      "reading manifest file 'src/edu_princeton_vineetb_walrus.egg-info/SOURCES.txt'\n",
      "writing manifest file 'src/edu_princeton_vineetb_walrus.egg-info/SOURCES.txt'\n",
      "* Building sdist...\n",
      "running sdist\n",
      "running egg_info\n",
      "writing src/edu_princeton_vineetb_walrus.egg-info/PKG-INFO\n",
      "writing dependency_links to src/edu_princeton_vineetb_walrus.egg-info/dependency_links.txt\n",
      "writing top-level names to src/edu_princeton_vineetb_walrus.egg-info/top_level.txt\n",
      "reading manifest file 'src/edu_princeton_vineetb_walrus.egg-info/SOURCES.txt'\n",
      "writing manifest file 'src/edu_princeton_vineetb_walrus.egg-info/SOURCES.txt'\n",
      "running check\n",
      "creating edu-princeton-vineetb-walrus-0.1.0\n",
      "creating edu-princeton-vineetb-walrus-0.1.0/src\n",
      "creating edu-princeton-vineetb-walrus-0.1.0/src/edu_princeton_vineetb_walrus.egg-info\n",
      "creating edu-princeton-vineetb-walrus-0.1.0/src/walrus\n",
      "creating edu-princeton-vineetb-walrus-0.1.0/test\n",
      "copying files to edu-princeton-vineetb-walrus-0.1.0...\n",
      "copying README.md -> edu-princeton-vineetb-walrus-0.1.0\n",
      "copying pyproject.toml -> edu-princeton-vineetb-walrus-0.1.0\n",
      "copying setup.cfg -> edu-princeton-vineetb-walrus-0.1.0\n",
      "copying src/edu_princeton_vineetb_walrus.egg-info/PKG-INFO -> edu-princeton-vineetb-walrus-0.1.0/src/edu_princeton_vineetb_walrus.egg-info\n",
      "copying src/edu_princeton_vineetb_walrus.egg-info/SOURCES.txt -> edu-princeton-vineetb-walrus-0.1.0/src/edu_princeton_vineetb_walrus.egg-info\n",
      "copying src/edu_princeton_vineetb_walrus.egg-info/dependency_links.txt -> edu-princeton-vineetb-walrus-0.1.0/src/edu_princeton_vineetb_walrus.egg-info\n",
      "copying src/edu_princeton_vineetb_walrus.egg-info/top_level.txt -> edu-princeton-vineetb-walrus-0.1.0/src/edu_princeton_vineetb_walrus.egg-info\n",
      "copying src/walrus/__init__.py -> edu-princeton-vineetb-walrus-0.1.0/src/walrus\n",
      "copying src/walrus/math.py -> edu-princeton-vineetb-walrus-0.1.0/src/walrus\n",
      "copying test/test_basic.py -> edu-princeton-vineetb-walrus-0.1.0/test\n",
      "copying test/test_math.py -> edu-princeton-vineetb-walrus-0.1.0/test\n",
      "Writing edu-princeton-vineetb-walrus-0.1.0/setup.cfg\n",
      "Creating tar archive\n",
      "removing 'edu-princeton-vineetb-walrus-0.1.0' (and everything under it)\n",
      "* Building wheel from sdist\n",
      "* Creating virtualenv isolated environment...\n",
      "* Installing packages in isolated environment... (setuptools>=42, wheel)\n",
      "* Getting dependencies for wheel...\n",
      "running egg_info\n",
      "writing src/edu_princeton_vineetb_walrus.egg-info/PKG-INFO\n",
      "writing dependency_links to src/edu_princeton_vineetb_walrus.egg-info/dependency_links.txt\n",
      "writing top-level names to src/edu_princeton_vineetb_walrus.egg-info/top_level.txt\n",
      "reading manifest file 'src/edu_princeton_vineetb_walrus.egg-info/SOURCES.txt'\n",
      "writing manifest file 'src/edu_princeton_vineetb_walrus.egg-info/SOURCES.txt'\n",
      "* Installing packages in isolated environment... (wheel)\n",
      "* Building wheel...\n",
      "running bdist_wheel\n",
      "running build\n",
      "running build_py\n",
      "creating build\n",
      "creating build/lib\n",
      "creating build/lib/walrus\n",
      "copying src/walrus/__init__.py -> build/lib/walrus\n",
      "copying src/walrus/math.py -> build/lib/walrus\n",
      "installing to build/bdist.macosx-10.9-x86_64/wheel\n",
      "running install\n",
      "running install_lib\n",
      "creating build/bdist.macosx-10.9-x86_64\n",
      "creating build/bdist.macosx-10.9-x86_64/wheel\n",
      "creating build/bdist.macosx-10.9-x86_64/wheel/walrus\n",
      "copying build/lib/walrus/__init__.py -> build/bdist.macosx-10.9-x86_64/wheel/walrus\n",
      "copying build/lib/walrus/math.py -> build/bdist.macosx-10.9-x86_64/wheel/walrus\n",
      "running install_egg_info\n",
      "running egg_info\n",
      "writing src/edu_princeton_vineetb_walrus.egg-info/PKG-INFO\n",
      "writing dependency_links to src/edu_princeton_vineetb_walrus.egg-info/dependency_links.txt\n",
      "writing top-level names to src/edu_princeton_vineetb_walrus.egg-info/top_level.txt\n",
      "reading manifest file 'src/edu_princeton_vineetb_walrus.egg-info/SOURCES.txt'\n",
      "writing manifest file 'src/edu_princeton_vineetb_walrus.egg-info/SOURCES.txt'\n",
      "Copying src/edu_princeton_vineetb_walrus.egg-info to build/bdist.macosx-10.9-x86_64/wheel/edu_princeton_vineetb_walrus-0.1.0-py3.9.egg-info\n",
      "running install_scripts\n",
      "creating build/bdist.macosx-10.9-x86_64/wheel/edu_princeton_vineetb_walrus-0.1.0.dist-info/WHEEL\n",
      "creating '/Users/vineetbansal/git_checkouts/python_packaging/notebooks/01-walrus-package/dist/tmpwzews18y/edu_princeton_vineetb_walrus-0.1.0-py3-none-any.whl' and adding 'build/bdist.macosx-10.9-x86_64/wheel' to it\n",
      "adding 'walrus/__init__.py'\n",
      "adding 'walrus/math.py'\n",
      "adding 'edu_princeton_vineetb_walrus-0.1.0.dist-info/METADATA'\n",
      "adding 'edu_princeton_vineetb_walrus-0.1.0.dist-info/WHEEL'\n",
      "adding 'edu_princeton_vineetb_walrus-0.1.0.dist-info/top_level.txt'\n",
      "adding 'edu_princeton_vineetb_walrus-0.1.0.dist-info/RECORD'\n",
      "removing build/bdist.macosx-10.9-x86_64/wheel\n",
      "Successfully built edu-princeton-vineetb-walrus-0.1.0.tar.gz and edu_princeton_vineetb_walrus-0.1.0-py3-none-any.whl\n"
     ]
    }
   ],
   "source": [
    "%%bash\n",
    "\n",
    "cd 01-walrus-package\n",
    "python -m build ."
   ]
  },
  {
   "cell_type": "code",
   "execution_count": 13,
   "metadata": {},
   "outputs": [
    {
     "name": "stdout",
     "output_type": "stream",
     "text": [
      "01-walrus-package\n",
      "|____test\n",
      "| |____test_basic.py\n",
      "| |______pycache__\n",
      "| | |____test_math.cpython-39-pytest-6.2.5.pyc\n",
      "| | |____test_basic.cpython-39-pytest-6.2.5.pyc\n",
      "| |____test_math.py\n",
      "|____.pytest_cache\n",
      "| |____CACHEDIR.TAG\n",
      "| |____README.md\n",
      "| |____.gitignore\n",
      "| |____v\n",
      "| | |____cache\n",
      "| | | |____nodeids\n",
      "| | | |____lastfailed\n",
      "| | | |____stepwise\n",
      "|____dist\n",
      "| |____edu-princeton-vineetb-walrus-0.1.0.tar.gz\n",
      "| |____edu_princeton_vineetb_walrus-0.1.0-py3-none-any.whl\n",
      "|____pyproject.toml\n",
      "|____README.md\n",
      "|____setup.cfg\n",
      "|____src\n",
      "| |____edu_princeton_vineetb_walrus.egg-info\n",
      "| | |____PKG-INFO\n",
      "| | |____SOURCES.txt\n",
      "| | |____top_level.txt\n",
      "| | |____dependency_links.txt\n",
      "| |____walrus\n",
      "| | |______init__.py\n",
      "| | |____math.py\n"
     ]
    }
   ],
   "source": [
    "tree 01-walrus-package"
   ]
  },
  {
   "cell_type": "markdown",
   "metadata": {},
   "source": [
    "Let's open up these `.tar.gz` and `.whl` files and see what's actually inside them..\n",
    "\n",
    "There's a `PKG_INFO`, some `egg` files etc. Nothing too complex, but not something that we would like to create by hand. Remember, **`setuptools` (and other newer, fancier ways of doing things like `poetry` or `flit`) make it easier to generate these sdists and wheel files, but in the end are doing the same thing.** Which one you choose is entirely a matter of taste."
   ]
  },
  {
   "cell_type": "markdown",
   "metadata": {},
   "source": [
    "## Installing our built package\n",
    "\n",
    "Now that we have files in the `dist/` folder, we can install them using `pip`. Try it out!\n",
    "    \n",
    "1. `pip install <path/to/sdist>`\n",
    "2. Uninstall the package we installed above (Hint: you could use `import walrus; print(walrus.__path__)` to see where it's installed, and `pip freeze` to see what the package is called so we can use `pip uninstall ..`\n",
    "3. `pip install <path/to/whl>`\n",
    "    \n",
    "Notice how the second command runs much faster than the first one? Why?\n",
    "\n",
    "(In fact, we could just have done `pip install .` to install our package instead of `python -m build .`, but we wanted to see what's really happening here.)"
   ]
  },
  {
   "cell_type": "code",
   "execution_count": 14,
   "metadata": {},
   "outputs": [
    {
     "name": "stdout",
     "output_type": "stream",
     "text": [
      "Processing /Users/vineetbansal/git_checkouts/python_packaging/notebooks/01-walrus-package\n",
      "  Installing build dependencies: started\n",
      "  Installing build dependencies: finished with status 'done'\n",
      "  Getting requirements to build wheel: started\n",
      "  Getting requirements to build wheel: finished with status 'done'\n",
      "    Preparing wheel metadata: started\n",
      "    Preparing wheel metadata: finished with status 'done'\n",
      "Building wheels for collected packages: edu-princeton-vineetb-walrus\n",
      "  Building wheel for edu-princeton-vineetb-walrus (PEP 517): started\n",
      "  Building wheel for edu-princeton-vineetb-walrus (PEP 517): finished with status 'done'\n",
      "  Created wheel for edu-princeton-vineetb-walrus: filename=edu_princeton_vineetb_walrus-0.1.0-py3-none-any.whl size=1673 sha256=1f370a9eb672e75cd53c8876e19dd4c1459adab7c5e278e4d3d3ff98d0f8be8d\n",
      "  Stored in directory: /Users/vineetbansal/Library/Caches/pip/wheels/e5/a6/49/842957efedae4789c9f8aa32bef31bba142c51aa42b07a4b03\n",
      "Successfully built edu-princeton-vineetb-walrus\n",
      "Installing collected packages: edu-princeton-vineetb-walrus\n",
      "Successfully installed edu-princeton-vineetb-walrus-0.1.0\n"
     ]
    },
    {
     "name": "stderr",
     "output_type": "stream",
     "text": [
      "  DEPRECATION: A future pip version will change local packages to be built in-place without first copying to a temporary directory. We recommend you use --use-feature=in-tree-build to test your packages with this new behavior before it becomes the default.\n",
      "   pip 21.3 will remove support for this functionality. You can find discussion regarding this at https://github.com/pypa/pip/issues/7555.\n"
     ]
    }
   ],
   "source": [
    "%%bash\n",
    "\n",
    "cd 01-walrus-package\n",
    "pip install ."
   ]
  },
  {
   "cell_type": "markdown",
   "metadata": {},
   "source": [
    "## Testing our installed package\n",
    "\n",
    "Now that we have installed our package, let's see if our tests pass:"
   ]
  },
  {
   "cell_type": "code",
   "execution_count": 15,
   "metadata": {},
   "outputs": [
    {
     "name": "stdout",
     "output_type": "stream",
     "text": [
      "============================= test session starts ==============================\n",
      "platform darwin -- Python 3.9.7, pytest-6.2.5, py-1.10.0, pluggy-1.0.0\n",
      "rootdir: /Users/vineetbansal/git_checkouts/python_packaging/notebooks/01-walrus-package\n",
      "plugins: anyio-3.3.2\n",
      "collected 2 items\n",
      "\n",
      "test/test_basic.py .                                                     [ 50%]\n",
      "test/test_math.py .                                                      [100%]\n",
      "\n",
      "============================== 2 passed in 0.02s ===============================\n"
     ]
    }
   ],
   "source": [
    "%%bash\n",
    "\n",
    "cd 01-walrus-package/\n",
    "pytest test"
   ]
  },
  {
   "cell_type": "markdown",
   "metadata": {},
   "source": [
    "This brings us to why we had a `src/` folder inside our source in the first place - before installing the package, `pytest test` would have failed, but now it passes. In general, **we would like to test the behavior of the package that eventually gets installed, not what we're developing (certainly our users would be concerned about the behavior of the installed package)**. Having a `src/` folder prevents us from *accidentally* picking up our source folder during development, unless we're very explicit about it (by specifying `PYTHONPATH` etc.)"
   ]
  },
  {
   "cell_type": "markdown",
   "metadata": {},
   "source": [
    "## Making the package available on PyPI\n",
    "\n",
    "Now that the distribution artifacts are built in `dist/` (and tested!), we can upload them to [PyPI](https://pypi.org/) using `twine`. We'll have to create an account on PyPI first of course."
   ]
  },
  {
   "cell_type": "code",
   "execution_count": 17,
   "metadata": {},
   "outputs": [
    {
     "name": "stdout",
     "output_type": "stream",
     "text": [
      "Uploading distributions to https://upload.pypi.org/legacy/\n",
      "Enter your username: "
     ]
    },
    {
     "name": "stderr",
     "output_type": "stream",
     "text": [
      "Traceback (most recent call last):\n",
      "  File \"/Users/vineetbansal/opt/miniconda3/envs/packaging/bin/twine\", line 8, in <module>\n",
      "    sys.exit(main())\n",
      "  File \"/Users/vineetbansal/opt/miniconda3/envs/packaging/lib/python3.9/site-packages/twine/__main__.py\", line 28, in main\n",
      "    result = cli.dispatch(sys.argv[1:])\n",
      "  File \"/Users/vineetbansal/opt/miniconda3/envs/packaging/lib/python3.9/site-packages/twine/cli.py\", line 71, in dispatch\n",
      "    return main(args.args)\n",
      "  File \"/Users/vineetbansal/opt/miniconda3/envs/packaging/lib/python3.9/site-packages/twine/commands/upload.py\", line 154, in main\n",
      "    return upload(upload_settings, parsed_args.dists)\n",
      "  File \"/Users/vineetbansal/opt/miniconda3/envs/packaging/lib/python3.9/site-packages/twine/commands/upload.py\", line 91, in upload\n",
      "    repository = upload_settings.create_repository()\n",
      "  File \"/Users/vineetbansal/opt/miniconda3/envs/packaging/lib/python3.9/site-packages/twine/settings.py\", line 345, in create_repository\n",
      "    self.username,\n",
      "  File \"/Users/vineetbansal/opt/miniconda3/envs/packaging/lib/python3.9/site-packages/twine/settings.py\", line 146, in username\n",
      "    return cast(Optional[str], self.auth.username)\n",
      "  File \"/Users/vineetbansal/opt/miniconda3/envs/packaging/lib/python3.9/site-packages/twine/auth.py\", line 35, in username\n",
      "    return utils.get_userpass_value(\n",
      "  File \"/Users/vineetbansal/opt/miniconda3/envs/packaging/lib/python3.9/site-packages/twine/utils.py\", line 240, in get_userpass_value\n",
      "    return prompt_strategy()\n",
      "  File \"/Users/vineetbansal/opt/miniconda3/envs/packaging/lib/python3.9/site-packages/twine/auth.py\", line 84, in username_from_keyring_or_prompt\n",
      "    return self.prompt(\"username\", input)\n",
      "  File \"/Users/vineetbansal/opt/miniconda3/envs/packaging/lib/python3.9/site-packages/twine/auth.py\", line 95, in prompt\n",
      "    return how(f\"Enter your {what}: \")\n",
      "EOFError: EOF when reading a line\n"
     ]
    },
    {
     "ename": "CalledProcessError",
     "evalue": "Command 'b'\\ncd 01-walrus-package/\\ntwine upload dist/*\\n'' returned non-zero exit status 1.",
     "output_type": "error",
     "traceback": [
      "\u001b[0;31m---------------------------------------------------------------------------\u001b[0m",
      "\u001b[0;31mCalledProcessError\u001b[0m                        Traceback (most recent call last)",
      "\u001b[0;32m/var/folders/9d/cx76lpfs50gglkyg38jgdmhw0000gn/T/ipykernel_69384/1572487755.py\u001b[0m in \u001b[0;36m<module>\u001b[0;34m\u001b[0m\n\u001b[0;32m----> 1\u001b[0;31m \u001b[0mget_ipython\u001b[0m\u001b[0;34m(\u001b[0m\u001b[0;34m)\u001b[0m\u001b[0;34m.\u001b[0m\u001b[0mrun_cell_magic\u001b[0m\u001b[0;34m(\u001b[0m\u001b[0;34m'bash'\u001b[0m\u001b[0;34m,\u001b[0m \u001b[0;34m''\u001b[0m\u001b[0;34m,\u001b[0m \u001b[0;34m'\\ncd 01-walrus-package/\\ntwine upload dist/*\\n'\u001b[0m\u001b[0;34m)\u001b[0m\u001b[0;34m\u001b[0m\u001b[0;34m\u001b[0m\u001b[0m\n\u001b[0m",
      "\u001b[0;32m~/opt/miniconda3/envs/packaging/lib/python3.9/site-packages/IPython/core/interactiveshell.py\u001b[0m in \u001b[0;36mrun_cell_magic\u001b[0;34m(self, magic_name, line, cell)\u001b[0m\n\u001b[1;32m   2404\u001b[0m             \u001b[0;32mwith\u001b[0m \u001b[0mself\u001b[0m\u001b[0;34m.\u001b[0m\u001b[0mbuiltin_trap\u001b[0m\u001b[0;34m:\u001b[0m\u001b[0;34m\u001b[0m\u001b[0;34m\u001b[0m\u001b[0m\n\u001b[1;32m   2405\u001b[0m                 \u001b[0margs\u001b[0m \u001b[0;34m=\u001b[0m \u001b[0;34m(\u001b[0m\u001b[0mmagic_arg_s\u001b[0m\u001b[0;34m,\u001b[0m \u001b[0mcell\u001b[0m\u001b[0;34m)\u001b[0m\u001b[0;34m\u001b[0m\u001b[0;34m\u001b[0m\u001b[0m\n\u001b[0;32m-> 2406\u001b[0;31m                 \u001b[0mresult\u001b[0m \u001b[0;34m=\u001b[0m \u001b[0mfn\u001b[0m\u001b[0;34m(\u001b[0m\u001b[0;34m*\u001b[0m\u001b[0margs\u001b[0m\u001b[0;34m,\u001b[0m \u001b[0;34m**\u001b[0m\u001b[0mkwargs\u001b[0m\u001b[0;34m)\u001b[0m\u001b[0;34m\u001b[0m\u001b[0;34m\u001b[0m\u001b[0m\n\u001b[0m\u001b[1;32m   2407\u001b[0m             \u001b[0;32mreturn\u001b[0m \u001b[0mresult\u001b[0m\u001b[0;34m\u001b[0m\u001b[0;34m\u001b[0m\u001b[0m\n\u001b[1;32m   2408\u001b[0m \u001b[0;34m\u001b[0m\u001b[0m\n",
      "\u001b[0;32m~/opt/miniconda3/envs/packaging/lib/python3.9/site-packages/IPython/core/magics/script.py\u001b[0m in \u001b[0;36mnamed_script_magic\u001b[0;34m(line, cell)\u001b[0m\n\u001b[1;32m    140\u001b[0m             \u001b[0;32melse\u001b[0m\u001b[0;34m:\u001b[0m\u001b[0;34m\u001b[0m\u001b[0;34m\u001b[0m\u001b[0m\n\u001b[1;32m    141\u001b[0m                 \u001b[0mline\u001b[0m \u001b[0;34m=\u001b[0m \u001b[0mscript\u001b[0m\u001b[0;34m\u001b[0m\u001b[0;34m\u001b[0m\u001b[0m\n\u001b[0;32m--> 142\u001b[0;31m             \u001b[0;32mreturn\u001b[0m \u001b[0mself\u001b[0m\u001b[0;34m.\u001b[0m\u001b[0mshebang\u001b[0m\u001b[0;34m(\u001b[0m\u001b[0mline\u001b[0m\u001b[0;34m,\u001b[0m \u001b[0mcell\u001b[0m\u001b[0;34m)\u001b[0m\u001b[0;34m\u001b[0m\u001b[0;34m\u001b[0m\u001b[0m\n\u001b[0m\u001b[1;32m    143\u001b[0m \u001b[0;34m\u001b[0m\u001b[0m\n\u001b[1;32m    144\u001b[0m         \u001b[0;31m# write a basic docstring:\u001b[0m\u001b[0;34m\u001b[0m\u001b[0;34m\u001b[0m\u001b[0m\n",
      "\u001b[0;32m~/opt/miniconda3/envs/packaging/lib/python3.9/site-packages/decorator.py\u001b[0m in \u001b[0;36mfun\u001b[0;34m(*args, **kw)\u001b[0m\n\u001b[1;32m    230\u001b[0m             \u001b[0;32mif\u001b[0m \u001b[0;32mnot\u001b[0m \u001b[0mkwsyntax\u001b[0m\u001b[0;34m:\u001b[0m\u001b[0;34m\u001b[0m\u001b[0;34m\u001b[0m\u001b[0m\n\u001b[1;32m    231\u001b[0m                 \u001b[0margs\u001b[0m\u001b[0;34m,\u001b[0m \u001b[0mkw\u001b[0m \u001b[0;34m=\u001b[0m \u001b[0mfix\u001b[0m\u001b[0;34m(\u001b[0m\u001b[0margs\u001b[0m\u001b[0;34m,\u001b[0m \u001b[0mkw\u001b[0m\u001b[0;34m,\u001b[0m \u001b[0msig\u001b[0m\u001b[0;34m)\u001b[0m\u001b[0;34m\u001b[0m\u001b[0;34m\u001b[0m\u001b[0m\n\u001b[0;32m--> 232\u001b[0;31m             \u001b[0;32mreturn\u001b[0m \u001b[0mcaller\u001b[0m\u001b[0;34m(\u001b[0m\u001b[0mfunc\u001b[0m\u001b[0;34m,\u001b[0m \u001b[0;34m*\u001b[0m\u001b[0;34m(\u001b[0m\u001b[0mextras\u001b[0m \u001b[0;34m+\u001b[0m \u001b[0margs\u001b[0m\u001b[0;34m)\u001b[0m\u001b[0;34m,\u001b[0m \u001b[0;34m**\u001b[0m\u001b[0mkw\u001b[0m\u001b[0;34m)\u001b[0m\u001b[0;34m\u001b[0m\u001b[0;34m\u001b[0m\u001b[0m\n\u001b[0m\u001b[1;32m    233\u001b[0m     \u001b[0mfun\u001b[0m\u001b[0;34m.\u001b[0m\u001b[0m__name__\u001b[0m \u001b[0;34m=\u001b[0m \u001b[0mfunc\u001b[0m\u001b[0;34m.\u001b[0m\u001b[0m__name__\u001b[0m\u001b[0;34m\u001b[0m\u001b[0;34m\u001b[0m\u001b[0m\n\u001b[1;32m    234\u001b[0m     \u001b[0mfun\u001b[0m\u001b[0;34m.\u001b[0m\u001b[0m__doc__\u001b[0m \u001b[0;34m=\u001b[0m \u001b[0mfunc\u001b[0m\u001b[0;34m.\u001b[0m\u001b[0m__doc__\u001b[0m\u001b[0;34m\u001b[0m\u001b[0;34m\u001b[0m\u001b[0m\n",
      "\u001b[0;32m~/opt/miniconda3/envs/packaging/lib/python3.9/site-packages/IPython/core/magic.py\u001b[0m in \u001b[0;36m<lambda>\u001b[0;34m(f, *a, **k)\u001b[0m\n\u001b[1;32m    185\u001b[0m     \u001b[0;31m# but it's overkill for just that one bit of state.\u001b[0m\u001b[0;34m\u001b[0m\u001b[0;34m\u001b[0m\u001b[0m\n\u001b[1;32m    186\u001b[0m     \u001b[0;32mdef\u001b[0m \u001b[0mmagic_deco\u001b[0m\u001b[0;34m(\u001b[0m\u001b[0marg\u001b[0m\u001b[0;34m)\u001b[0m\u001b[0;34m:\u001b[0m\u001b[0;34m\u001b[0m\u001b[0;34m\u001b[0m\u001b[0m\n\u001b[0;32m--> 187\u001b[0;31m         \u001b[0mcall\u001b[0m \u001b[0;34m=\u001b[0m \u001b[0;32mlambda\u001b[0m \u001b[0mf\u001b[0m\u001b[0;34m,\u001b[0m \u001b[0;34m*\u001b[0m\u001b[0ma\u001b[0m\u001b[0;34m,\u001b[0m \u001b[0;34m**\u001b[0m\u001b[0mk\u001b[0m\u001b[0;34m:\u001b[0m \u001b[0mf\u001b[0m\u001b[0;34m(\u001b[0m\u001b[0;34m*\u001b[0m\u001b[0ma\u001b[0m\u001b[0;34m,\u001b[0m \u001b[0;34m**\u001b[0m\u001b[0mk\u001b[0m\u001b[0;34m)\u001b[0m\u001b[0;34m\u001b[0m\u001b[0;34m\u001b[0m\u001b[0m\n\u001b[0m\u001b[1;32m    188\u001b[0m \u001b[0;34m\u001b[0m\u001b[0m\n\u001b[1;32m    189\u001b[0m         \u001b[0;32mif\u001b[0m \u001b[0mcallable\u001b[0m\u001b[0;34m(\u001b[0m\u001b[0marg\u001b[0m\u001b[0;34m)\u001b[0m\u001b[0;34m:\u001b[0m\u001b[0;34m\u001b[0m\u001b[0;34m\u001b[0m\u001b[0m\n",
      "\u001b[0;32m~/opt/miniconda3/envs/packaging/lib/python3.9/site-packages/IPython/core/magics/script.py\u001b[0m in \u001b[0;36mshebang\u001b[0;34m(self, line, cell)\u001b[0m\n\u001b[1;32m    243\u001b[0m             \u001b[0msys\u001b[0m\u001b[0;34m.\u001b[0m\u001b[0mstderr\u001b[0m\u001b[0;34m.\u001b[0m\u001b[0mflush\u001b[0m\u001b[0;34m(\u001b[0m\u001b[0;34m)\u001b[0m\u001b[0;34m\u001b[0m\u001b[0;34m\u001b[0m\u001b[0m\n\u001b[1;32m    244\u001b[0m         \u001b[0;32mif\u001b[0m \u001b[0margs\u001b[0m\u001b[0;34m.\u001b[0m\u001b[0mraise_error\u001b[0m \u001b[0;32mand\u001b[0m \u001b[0mp\u001b[0m\u001b[0;34m.\u001b[0m\u001b[0mreturncode\u001b[0m\u001b[0;34m!=\u001b[0m\u001b[0;36m0\u001b[0m\u001b[0;34m:\u001b[0m\u001b[0;34m\u001b[0m\u001b[0;34m\u001b[0m\u001b[0m\n\u001b[0;32m--> 245\u001b[0;31m             \u001b[0;32mraise\u001b[0m \u001b[0mCalledProcessError\u001b[0m\u001b[0;34m(\u001b[0m\u001b[0mp\u001b[0m\u001b[0;34m.\u001b[0m\u001b[0mreturncode\u001b[0m\u001b[0;34m,\u001b[0m \u001b[0mcell\u001b[0m\u001b[0;34m,\u001b[0m \u001b[0moutput\u001b[0m\u001b[0;34m=\u001b[0m\u001b[0mout\u001b[0m\u001b[0;34m,\u001b[0m \u001b[0mstderr\u001b[0m\u001b[0;34m=\u001b[0m\u001b[0merr\u001b[0m\u001b[0;34m)\u001b[0m\u001b[0;34m\u001b[0m\u001b[0;34m\u001b[0m\u001b[0m\n\u001b[0m\u001b[1;32m    246\u001b[0m \u001b[0;34m\u001b[0m\u001b[0m\n\u001b[1;32m    247\u001b[0m     \u001b[0;32mdef\u001b[0m \u001b[0m_run_script\u001b[0m\u001b[0;34m(\u001b[0m\u001b[0mself\u001b[0m\u001b[0;34m,\u001b[0m \u001b[0mp\u001b[0m\u001b[0;34m,\u001b[0m \u001b[0mcell\u001b[0m\u001b[0;34m,\u001b[0m \u001b[0mto_close\u001b[0m\u001b[0;34m)\u001b[0m\u001b[0;34m:\u001b[0m\u001b[0;34m\u001b[0m\u001b[0;34m\u001b[0m\u001b[0m\n",
      "\u001b[0;31mCalledProcessError\u001b[0m: Command 'b'\\ncd 01-walrus-package/\\ntwine upload dist/*\\n'' returned non-zero exit status 1."
     ]
    }
   ],
   "source": [
    "%%bash\n",
    "\n",
    "cd 01-walrus-package/\n",
    "twine upload dist/*"
   ]
  },
  {
   "cell_type": "markdown",
   "metadata": {},
   "source": [
    "# Packaging data along with your code\n",
    "\n",
    "There are use cases where you may want to package data files (.csv files, pre-trained ML models etc.) so that someone running a `pip install` automatically gets those file (and further, these files can easily be used by the code). One excellent reason you may want to include data files is to provide small, minimal sample files that illustrate how to use your package, and tests and sample scripts that do actually use these files.\n",
    "\n",
    "The exact procedure you take will depend on which *build backend* you use (as per your `pyproject.toml`). Since so far we've used `setuptools` (the most common), let's see how this works with `setuptools`.\n",
    "\n",
    "Here are the key points:\n",
    "\n",
    "- `setuptools` packaged a few things in our `sdist` (and the `wheel`) automatically for us when we said `python -m build .` and we didn't have to specify anything. The exact rules it follows are [here](https://packaging.python.org/guides/using-manifest-in/#how-files-are-included-in-an-sdist)\n",
    "\n",
    "- For more fine-grained control over what gets included, we can use a file called `MANIFEST.in`. This explicitly lists *commands* that tell `setuptools` which files should be included or excluded after `setuptools` has done its default processing. There are [quite a few](https://packaging.python.org/guides/using-manifest-in/#manifest-in-commands) commands, but we generally can get away with `graft` or `recursive-include`.\n",
    "\n",
    "- A `MANIFEST.in` that looks like the following will pull in all files from the `src/walrus/data` directory and make them available in the `sdist`.\n",
    "\n",
    "```\n",
    "recursive-include src/walrus/data *\n",
    "```\n",
    "    \n",
    "\n",
    "- In addition, we'll also add an `include_package_data = True` in our `setup.cfg` to tell `setuptools` to also include it in the built (binary) distribution.\n",
    "\n",
    "- To access the data programmatically from our package code, we'll make the `data` folder a `module` (by including a blank `__init__.py`), and use functions from `importlib.resources` (a built-in python module for python >= 3.7) to read it.\n",
    "\n",
    "  You can choose to use `os.open` or some hack with `__file__` in your code to find out where your data file is, but this will result in **fragile code that will likely break over time.** (Consider - what if your whole package was zipped up?) `importlib.resources` uses the same mechanism that python uses to load modules, and will always work, now and in the future. Also, remember - you only have to use `importlib.resources` to access data that you pre-package. You can use `os.open`/`shutil` etc. in functions that you expose to your users to read files at runtime.\n",
    "  \n",
    "- See the `02-walrus-package/` folder for a complete example."
   ]
  },
  {
   "cell_type": "markdown",
   "metadata": {},
   "source": [
    "# Specifying dependencies for your package\n",
    "\n",
    "If our package in turn depends on other packages, we specify it as a [required dependency](https://setuptools.readthedocs.io/en/latest/userguide/dependency_management.html#declaring-required-dependency) in the `install_requires` section of `setup.cfg`. See `03-walrus-package/` as an example, which depends on `pandas`.\n",
    "\n",
    "If it's possible for users to use our package but perhaps with reduced functionality, we can choose to declare a dependency as [optional](https://setuptools.readthedocs.io/en/latest/userguide/dependency_management.html#optional-dependencies). In the case of `03-walrus-package/`:\n",
    "\n",
    "```\n",
    "    [options.extras_require]\n",
    "        movies = pandas\n",
    "```\n",
    "\n",
    "A `pip install walrus` will install our package and its required dependencies, but a `pip install walrus[movies]` will install the optional dependencies under the `movies` section above, allowing the user to use the `walrus.movies` submodule.\n",
    "\n",
    "Of course, our code must be written in such a way that it's capable of working under the absence of optional dependencies (you would not want to `import pandas` while trying to load your package, by either moving those `import` statements as deep as possible (not recommended) or guarding them against `ImportError`s (recommended).\n",
    "\n",
    "\n",
    "Optional dependencies are typically used to allow other developers to install your package along with other dependencies that allow them to continue development on their machines (e.g. a `pip install -e .[dev]` might also install `pytest`, `sphinx` etc.)"
   ]
  }
 ],
 "metadata": {
  "kernelspec": {
   "display_name": "Python 3 (ipykernel)",
   "language": "python",
   "name": "python3"
  },
  "language_info": {
   "codemirror_mode": {
    "name": "ipython",
    "version": 3
   },
   "file_extension": ".py",
   "mimetype": "text/x-python",
   "name": "python",
   "nbconvert_exporter": "python",
   "pygments_lexer": "ipython3",
   "version": "3.9.7"
  }
 },
 "nbformat": 4,
 "nbformat_minor": 4
}
