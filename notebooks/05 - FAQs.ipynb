{
 "cells": [
  {
   "cell_type": "markdown",
   "metadata": {},
   "source": [
    "# FAQs and Further Reading"
   ]
  },
  {
   "cell_type": "markdown",
   "metadata": {},
   "source": [
    "### From modules to packages\n",
    "\n",
    "- Why did we name our package `edu-princeton-vineetb-walrus` when we expect our users to do a `import walrus`?\n",
    "\n",
    "    We wisely named our package `edu-princeton-<netid>-walrus` to avoid conflicts with any existing packages that might already be on PyPI, but this was just to successfully make it available. This illustrates the difference between the *importable package* name and the *distribution package* name.\n",
    "    \n",
    "    A related question - What if our users wanted to use our walrus package *as well as* the one that is [already available](https://pypi.org/project/walrus/) on PyPI? Which one would `import walrus` use?\n",
    "\n",
    "      In general all hell will break lose in such situations, and user experience will depend on the order in which the packagese were installed. This is almost never a real problem though, as long as package names are unique and wisely chosen. **You will almost always have the two names match exactly.** We just chose different names to illustrate the point. In the rare cases where we *do* want to support names that are already out there (e.g. when writing extensions for packages that others have written), we use something called *namespace packages*. More details at [Packaging namespace packages](https://packaging.python.org/guides/packaging-namespace-packages/).\n",
    "\n",
    "\n",
    "- We had to specify our package version twice! (once in `__init__.py`, and again in `setup.cfg`). Isn't that redundant?\n",
    "\n",
    "    The former is to allow users to easily enquire `walrus.__version__` programmatically (which has become a convention by now). The latter is to let `pip` do its job properly (for example, if we say `pip install edu-princeton-vineetb-walrus==0.1.0`). Having to specify them independently twice is inconvenient and error prone for sure. We get around this in the `Releasing and versioning your code` notebook.\n",
    "\n",
    "\n",
    "- Why have two files - `pyproject.toml` and `setup.cfg`. Can't I put all my package-related information in a single place?\n",
    "\n",
    "    In the future, we may be able to specify some metadata about our package (name/version etc.) directly in `pyproject.toml`. This is an area actively being investigated by the Python community. For now (as of October 2021), `setuptools` is responsible for handling this metadata, and `setup.cfg` is the preferred way to go.\n",
    "\n",
    "- What happened to `setup.py`?\n",
    "\n",
    "    You may see a `setup.py` instead of (or in addition to, a `setup.cfg` file), in a lot of existing projects. There are valid use cases of having a `setup.py`, for example, if you want to do something advanced during the build process, like building a C++ extension (see an example [here](https://github.com/raphael-group/hatchet/blob/master/setup.py)). If you can get away with just having a `setup.cfg` (i.e. when everything you would like to specify about your package is *static*, so to say), that's the preferred way to go."
   ]
  }
 ],
 "metadata": {
  "kernelspec": {
   "display_name": "Python 3 (ipykernel)",
   "language": "python",
   "name": "python3"
  },
  "language_info": {
   "codemirror_mode": {
    "name": "ipython",
    "version": 3
   },
   "file_extension": ".py",
   "mimetype": "text/x-python",
   "name": "python",
   "nbconvert_exporter": "python",
   "pygments_lexer": "ipython3",
   "version": "3.9.7"
  }
 },
 "nbformat": 4,
 "nbformat_minor": 4
}
