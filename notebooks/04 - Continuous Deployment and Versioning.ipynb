{
 "cells": [
  {
   "cell_type": "markdown",
   "metadata": {},
   "source": [
    "# Continuous Deployment and Versioning"
   ]
  },
  {
   "cell_type": "markdown",
   "metadata": {},
   "source": [
    "If we've followed the steps so far, we're pretty confident that the code in our `master` branch works, and always represents the latest and greatest version of our package. At certain points of time, we will want to *release* (or *deploy*) new versions of our code.\n",
    "\n",
    "\n",
    "*Releasing* the code in this context means that we will assign a new version number to our package and make it easily accessible to our users - either by uploading the new version on PyPI, or creating an easily downloadable `.zip` file, or both - anything that doesn't involve `git clone`ing our repository.\n",
    "\n",
    "This release process may happen as frequently as we wish - even several times a day in the case of fixing bugs in our package. As long as we follow [Semantic Versioning](https://devhints.io/semver) for our package, everything downstream should work just fine (Our users could do a `pip install walrus==3.*` and expect to get the latest 3.x release, for example).\n",
    "\n",
    "\n",
    "![semver](https://bytearcher.com/goodies/semantic-versioning-cheatsheet/wheelbarrel-no-tilde-caret-white-bg-w1000.jpg)\n",
    "\n",
    "(Image from https://bytearcher.com/goodies/semantic-versioning-cheatsheet/)"
   ]
  },
  {
   "cell_type": "markdown",
   "metadata": {},
   "source": [
    "## A Single Version number for our package\n",
    "\n",
    "Earlier, we noticed that we had to specify the version number of the `walrus` package at two separate places:\n",
    "    \n",
    "```\n",
    ".\n",
    "├── dist\n",
    "├── pyproject.toml\n",
    "├── README.md\n",
    "├── setup.cfg                 <--- Version Number specified as packaging metadata\n",
    "├── src\n",
    "│   └── walrus\n",
    "│       ├── __init__.py       <--- Version Number specified as __version__\n",
    "│       └── math.py\n",
    "└── test\n",
    "    ├── test_basic.py\n",
    "    └── test_math.py\n",
    "\n",
    "```\n",
    "\n",
    "There are a few ways to make version numbers at several places consistent:\n",
    "\n",
    " - Manually ensure that version numbers are the same, wherever they occur. This is of course tedious and error prone.\n",
    " - Use a tool like [bumpversion](https://github.com/peritus/bumpversion).\n",
    "     - We create a configuration file that tells `bumpversion` exactly what files to tweak whenever we want to bump the version.\n",
    "     - We issue a command like `bumpversion minor` to bump up the minor version number, or `bumpversion 0.6.3` to specify the complete version number, and it takes care of the rest.\n",
    " - Use something like `setuptools-scm` to get the version number directly from the **git tag**.\n",
    " \n",
    " \n",
    " In our opinion, `setuptools-scm` is the best way, since it takes care of a few scenarios:\n",
    " \n",
    " - We only have to specify the version once (of course)\n",
    " - As long as we're on `git`, there's never a confusion as to the current state of the code w.r.t. the version (Did we make changes after bumping the version? Did we remember to bump the version after changing our code in `git`?)\n",
    " - As long as we set this up correctly (as we'll see soon), no two developers in our project will end up using the same version number. The version number will be assigned centrally, and *atomically*.\n",
    " \n",
    " ### TLDR; - In the `setuptools-scm` world, the *git tag* **IS** the version number."
   ]
  },
  {
   "cell_type": "markdown",
   "metadata": {},
   "source": [
    "### Example\n",
    "\n",
    "The folder `04-walrus-package/` is the next iteration of our code. The only changes here are in `pyproject.toml`:\n",
    "    \n",
    "```\n",
    "[build-system]\n",
    "requires = [\n",
    "    \"setuptools>=42\",\n",
    "    \"wheel\",\n",
    "    \"setuptools_scm>=6.2\"\n",
    "]\n",
    "build-backend = \"setuptools.build_meta\"\n",
    "\n",
    "\n",
    "[tool.setuptools_scm]\n",
    "write_to = \"src/walrus/_version.py\"\n",
    "```\n",
    "    \n",
    "We're telling `pip` that we need the `setuptools_scm` during the build phase of our package, and we're telling `setuptools_scm` which file to write the version number to. In this case, `src/walrus/_version.py`. *Note that we will never modify this file manually, nor add it to version control.*\n",
    "\n",
    "Let's see how this works on the command line.."
   ]
  },
  {
   "cell_type": "markdown",
   "metadata": {},
   "source": [
    "### Continuous Deployment on GitHub\n",
    "\n",
    "#### What's a GitHub 'release'?\n",
    "\n",
    "GitHub has a feature to create a [release](https://github.com/vineetbansal/walrus/releases). This is essentially doing these things:\n",
    "  - Add a `git tag` to a branch.\n",
    "  - Zip up the current state of the branch for archival purposes.\n",
    "  - Allow us to add a title + description to this release.\n",
    "  - Allow us to use `Github Actions` to do anything else that we want..\n",
    "  \n",
    "  We will be using this last bullet point above to manage our package releases on PyPI.\n",
    "  \n",
    "The repository [walrus](https://github.com/vineetbansal/walrus) on GitHub has a [release workflow file](https://github.com/vineetbansal/walrus/blob/master/.github/workflows/release.yml) that we can inspect. Note that:\n",
    "\n",
    "  - The `build_sdist` and the `build_wheel` jobs are hopefully self-explanatory by now, and generate the `sdist` and `wheel` files in the `dist/` folder. Note that we generate the `sdist` only once, but the `wheel` for as many platforms as we purport to support. In this case, it doesn't really matter since our package is pure python. For packages that have a C/C++ component, like [this one](https://github.com/vineetbansal/walrus_carpenter), the `build_wheel` job generates a whole bunch of wheel files, each with a unique name designating the platform + python version.\n",
    "\n",
    "\n",
    "  - An `upload_all` job is executed once the `build_sdist` and `build_wheel` jobs are complete\n",
    "  \n",
    "  ```\n",
    "  upload_all:\n",
    "    name: Upload if release\n",
    "    needs: [build_sdist, build_wheels]\n",
    "    runs-on: ubuntu-latest\n",
    "    if: github.event_name == 'release' && github.event.action == 'published'\n",
    "\n",
    "    steps:\n",
    "    - uses: actions/download-artifact@v2\n",
    "      with:\n",
    "        name: artifact\n",
    "        path: dist\n",
    "\n",
    "    - uses: pypa/gh-action-pypi-publish@release/v1\n",
    "      with:\n",
    "        user: __token__\n",
    "        password: ${{ secrets.PYPI_API_TOKEN }}\n",
    "   ```\n",
    "   \n",
    "   This job is triggered when we use the GitHub UI to create a release, and is using:\n",
    "   \n",
    "   - A marketplace action [download-artifact](https://github.com/actions/download-artifact) to collect everything in the `dist/` folder and make it available as a `artifact.zip` file.\n",
    "     \n",
    "   - A marketplace action [gh-action-pypi-publish](https://github.com/pypa/gh-action-pypi-publish) to push eveything in the `dist/` folder to our PyPI account. (This step requires us to share a secret token from our PyPI account to our GitHub repository)."
   ]
  }
 ],
 "metadata": {
  "kernelspec": {
   "display_name": "Python 3 (ipykernel)",
   "language": "python",
   "name": "python3"
  },
  "language_info": {
   "codemirror_mode": {
    "name": "ipython",
    "version": 3
   },
   "file_extension": ".py",
   "mimetype": "text/x-python",
   "name": "python",
   "nbconvert_exporter": "python",
   "pygments_lexer": "ipython3",
   "version": "3.9.7"
  }
 },
 "nbformat": 4,
 "nbformat_minor": 4
}
