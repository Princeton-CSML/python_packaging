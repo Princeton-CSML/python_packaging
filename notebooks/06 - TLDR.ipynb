{
 "cells": [
  {
   "cell_type": "markdown",
   "id": "cc41a704-c90d-46e5-a0ed-928efe57feb8",
   "metadata": {},
   "source": [
    "These are our (opinionated) suggestions on packaging to make your life easier.\n",
    "\n",
    "| Do | Don't |\n",
    "| --- | --- |\n",
    "|**Managing Python**|\n",
    "|Create + activate a new conda environment for each new project.|\n",
    "|Ensure that `pip` being used is inside the `conda` environment. (`which pip`)| \n",
    "|Use `pip install` to install dependencies if you can.|**Don't** install dependencies using `conda install` unless you *have* to.|\n",
    "|Use Python>=3.7 for new projects ([importlib.resources](https://docs.python.org/3.7/library/importlib.html#module-importlib.resources) comes standard).|\n",
    "|Use [pyenv](https://realpython.com/intro-to-pyenv/) to manage multiple python interpreters on your laptop.|\n",
    "|Use *both* pyenv and conda on the same machine.|**Don't** activate the base conda environment by default (`conda config --set auto_activate_base false`)|\n",
    "|**Folder Structure**|\n",
    "|Use a `src/` folder structure to manage your package.|\n",
    "|Keep your `test/` folder separate from your `src/` folder. (`test/` gets included in the `sdist`)|**Don't** ship tests with your pip-installable package.|\n",
    "|**Packaging**|\n",
    "|Use [pyproject.toml](https://stackoverflow.com/questions/62983756/what-is-pyproject-toml-file-for)|\n",
    "|Use good-old [setuptools](https://setuptools.pypa.io/en/latest/userguide/index.html) in your pyproject.toml|**Don't** use all-in-one systems like [poetry](https://python-poetry.org/) unless you *really* know what you're doing.|\n",
    "|Use `setup.cfg` *only*, if you can.|**Don't** use a `setup.py` if you can avoid it.|\n",
    "|Let setuptools [find](https://setuptools.pypa.io/en/latest/userguide/package_discovery.html) your packages for you.|**Don't** explicitly specify packages in your `setup.cfg`.|\n",
    "|**Data files**|\n",
    "|Put your datafiles in a folder, and then make it a submodule.|\n",
    "|Use [include_package_data](https://setuptools.pypa.io/en/stable/userguide/datafiles.html) + [MANIFEST.in](https://packaging.python.org/guides/using-manifest-in/) to manage pre-packaged data.|**Don't** use [package_data](https://setuptools.pypa.io/en/stable/userguide/datafiles.html).|\n",
    "|Use [importlib.resources]((https://docs.python.org/3.7/library/importlib.html#module-importlib.resources) if accessing pre-packaged data.|**Don't** use `open`/`os`/`shutil`/`__file__` to access pre-packaged data.|\n",
    "|**Testing/CI**|\n",
    "|Use [pyenv](https://realpython.com/intro-to-pyenv/) + [nox](https://nox.thea.codes/en/stable/) to test your code on as many Python `<major>.<minor>` versions as you can (use the latest `<patch>` version for all pythons).|**Don't** use [tox](https://tox.readthedocs.io/en/latest/) (nox is better).\n",
    "|Use [GitHub actions](https://docs.github.com/en/actions/quickstart).|**Don't** use Travis/Appveyor/CircleCI/Azure Pipelines.\n",
    "|Use [cibuildwheel]() to build wheels on multiple OSes+Python versions for hybrid Python/C++ code.|\n",
    "|**Versioning**|\n",
    "||**Don't** import your package inside your `setup.py` to determine your version!|\n",
    "|Use [setuptools_scm](https://github.com/pypa/setuptools_scm).|**Don't** use [bumpversion](https://github.com/peritus/bumpversion)."
   ]
  }
 ],
 "metadata": {
  "kernelspec": {
   "display_name": "Python 3 (ipykernel)",
   "language": "python",
   "name": "python3"
  },
  "language_info": {
   "codemirror_mode": {
    "name": "ipython",
    "version": 3
   },
   "file_extension": ".py",
   "mimetype": "text/x-python",
   "name": "python",
   "nbconvert_exporter": "python",
   "pygments_lexer": "ipython3",
   "version": "3.9.7"
  }
 },
 "nbformat": 4,
 "nbformat_minor": 5
}
