{
 "cells": [
  {
   "cell_type": "markdown",
   "id": "022c10e4-af6c-4b3f-9836-e3b1a9c4bc09",
   "metadata": {},
   "source": [
    "# Scripts, modules, packages"
   ]
  },
  {
   "cell_type": "markdown",
   "id": "433cadef-12d4-47ed-a398-7c8e4440a4d6",
   "metadata": {},
   "source": [
    "# scripts\n",
    "- text file, input for interpreter\n",
    "- define and use functions, variables\n",
    "\n"
   ]
  },
  {
   "cell_type": "code",
   "execution_count": 4,
   "id": "4a173172-f6b7-4873-b5a3-4df3e3eb3506",
   "metadata": {},
   "outputs": [
    {
     "name": "stdout",
     "output_type": "stream",
     "text": [
      "12.56636\n",
      "mod __name__: mod\n",
      "28.27431\n"
     ]
    }
   ],
   "source": [
    "%%bash \n",
    "\n",
    "python script.py"
   ]
  },
  {
   "cell_type": "markdown",
   "id": "d8fbde0e-af98-453d-997f-93ddf543c95a",
   "metadata": {},
   "source": [
    "### problem\n",
    "- as code grows, scripts unwieldy\n",
    "\n",
    "\n",
    "### solution: modules\n",
    "- helps maintain/extend code\n",
    "- easier to read\n",
    "- easier to reuse across different programs"
   ]
  },
  {
   "cell_type": "markdown",
   "id": "d99bc00e-4205-4d75-be3f-020b7d560662",
   "metadata": {
    "tags": []
   },
   "source": [
    "# Modules\n",
    "\n",
    "- defines functions, constants, variables, runnable code\n",
    "- identified by .py extension\n",
    "- `sys.path` contains directory list searched by python \n",
    "    - current directory\n",
    "    - shell variable PYTHONPATH\n",
    "- can be run directly or imported by other scripts/modules\n"
   ]
  },
  {
   "cell_type": "markdown",
   "id": "9f65cdef-3b6c-40d5-9397-37db06bb5b12",
   "metadata": {},
   "source": [
    "### Running mod.py\n",
    "\n",
    "mod.py contains a function to compute the area of a circle, but also runs some code, i.e. for testing."
   ]
  },
  {
   "cell_type": "code",
   "execution_count": 3,
   "id": "c70634cd-19d0-4bff-a29c-0e72068fc0ec",
   "metadata": {},
   "outputs": [
    {
     "name": "stdout",
     "output_type": "stream",
     "text": [
      "12.56636\n",
      "mod __name__: __main__\n"
     ]
    }
   ],
   "source": [
    "%%bash\n",
    "python mod.py"
   ]
  },
  {
   "cell_type": "markdown",
   "id": "5adec2ef-4aad-4012-9748-2ba027fcbfb1",
   "metadata": {
    "tags": []
   },
   "source": [
    "### Importing mod.py\n",
    "\n",
    "- `script.py` imports `mod.py`:\n",
    "- Based on the contents of `script.py` we expected 2 things to be printed, but code within mod.py was run upon import!\n",
    "\n",
    "#### special variable \\_\\_name\\_\\_\n",
    "\n",
    "To prevent runnable code within mod.py from getting executed (e.g. tests), uncomment out the line containing `if __name__ == \"__main__\":` and rerun the previous cell!\n",
    "\n",
    "For `mod.py`, `__name__` takes on values:\n",
    "- `__main__` if given to python interpreter\n",
    "- `mod` if imported\n",
    "\n",
    "#### standard practice\n",
    "\n",
    "- modules typically only define functions, etc., and do not contain runnable code\n",
    "    - tests usually stored elsewhere (next section)\n",
    "- the `if __name__ == \"__main__\":` typically only included in the top-level code\n",
    "    - shows user the program's entrypoint\n",
    "    - prevents code from running if this code is imported"
   ]
  },
  {
   "cell_type": "markdown",
   "id": "68709ad6-5498-4daa-9127-988809f78cf4",
   "metadata": {},
   "source": [
    "### Modules: final notes\n",
    "- to simplify syntax, you can use `from mod import circ_area` to use the function without the dot notation\n",
    "- to speed up loading modules, python caches the compiled version in the \\_\\_pycache\\_\\_ directory \n",
    "- the built in dir() function shows which names a module defines\n",
    "\n"
   ]
  },
  {
   "cell_type": "code",
   "execution_count": 4,
   "id": "dfa321a4-3772-45a1-bdc7-3c6f7f9f07e1",
   "metadata": {},
   "outputs": [
    {
     "data": {
      "text/plain": [
       "['__builtins__',\n",
       " '__cached__',\n",
       " '__doc__',\n",
       " '__file__',\n",
       " '__loader__',\n",
       " '__name__',\n",
       " '__package__',\n",
       " '__spec__',\n",
       " 'circ_area',\n",
       " 'pi']"
      ]
     },
     "execution_count": 4,
     "metadata": {},
     "output_type": "execute_result"
    }
   ],
   "source": [
    "import mod\n",
    "dir(mod)"
   ]
  },
  {
   "cell_type": "markdown",
   "id": "97c24cbd-b2d8-436a-a797-cf33178a5568",
   "metadata": {},
   "source": [
    "# Packages"
   ]
  },
  {
   "cell_type": "markdown",
   "id": "de9c9176-56cd-4582-8678-947719794a0a",
   "metadata": {},
   "source": [
    "- a directory containing a collection of modules\n",
    "    - each module contains code related to topic (e.g. I/O functionality)\n",
    "    - use an \\_\\_init\\_\\_.py file in directory/subdirectories to indicate it’s a package\n",
    "- structured using python’s “dotted module names” namespace\n",
    "    - Module name A.B specifies a submodule B in a package named A\n",
    "    - e.g. `sklearn.mixture.GaussianMixture`\n",
    "\n",
    "### why use packages?\n",
    "\n",
    "- many tools to build, install, distribute packages\n",
    "- divides code into well-structured, logical units with standard layout\n",
    "    - easier to read/understand/use/extend\n",
    "\n",
    "\n",
    "\n"
   ]
  },
  {
   "cell_type": "markdown",
   "id": "eddf2370-bbd4-41ad-b3bb-43062e21e987",
   "metadata": {},
   "source": [
    "### package structure\n",
    "\n",
    "A basic package not meant for publishing, as it lacks the special files to do so (`setup.py`, `README.md`, and `MANIFEST.in`)\n",
    "\n",
    "```\n",
    "datascience\n",
    "├── __init__.py\n",
    "├── __main__.py\n",
    "├── analysis            # module\n",
    "│   ├── __init__.py\n",
    "│   └── regression.py\n",
    "└── preprocess          # module\n",
    "    ├── __init__.py\n",
    "    ├── filter.py\n",
    "    └── transform.py\n",
    "```"
   ]
  },
  {
   "cell_type": "markdown",
   "id": "eaeabf64-b1d3-4fae-9b1f-026f505fd3be",
   "metadata": {},
   "source": [
    "### accessing modules and functions\n",
    "\n",
    "See the `__init__.py` file in the `datascience` directory to explore the various ways to change the behavior of import statements. (Un)comment out various sections, restart the Kernel (Kernel -> Restart Kernel), and re-import packages.\n",
    "\n",
    "Use the `ds()` function to see what modules/functions get imported to your namespace."
   ]
  },
  {
   "cell_type": "code",
   "execution_count": 5,
   "id": "8a9c23f8-410a-4542-ba50-49e7a8b5305e",
   "metadata": {},
   "outputs": [
    {
     "data": {
      "text/plain": [
       "['__builtins__',\n",
       " '__cached__',\n",
       " '__doc__',\n",
       " '__file__',\n",
       " '__loader__',\n",
       " '__name__',\n",
       " '__package__',\n",
       " '__path__',\n",
       " '__spec__',\n",
       " 'analysis',\n",
       " 'filter_1',\n",
       " 'filter_2',\n",
       " 'lasso',\n",
       " 'logistic',\n",
       " 'preprocess',\n",
       " 'transform_1',\n",
       " 'transform_2']"
      ]
     },
     "execution_count": 5,
     "metadata": {},
     "output_type": "execute_result"
    }
   ],
   "source": [
    "import datascience as ds\n",
    "# \"from datascience import *\" is not recommended!\n",
    "dir(ds)"
   ]
  },
  {
   "cell_type": "code",
   "execution_count": 7,
   "id": "cb7f5681-f6ce-4f4f-b1fa-52611eccb32d",
   "metadata": {},
   "outputs": [
    {
     "data": {
      "text/plain": [
       "['__builtins__',\n",
       " '__cached__',\n",
       " '__doc__',\n",
       " '__file__',\n",
       " '__loader__',\n",
       " '__name__',\n",
       " '__package__',\n",
       " '__spec__',\n",
       " 'filter_1',\n",
       " 'filter_2']"
      ]
     },
     "execution_count": 7,
     "metadata": {},
     "output_type": "execute_result"
    }
   ],
   "source": [
    "dir(ds.preprocess.filter)"
   ]
  },
  {
   "cell_type": "markdown",
   "id": "66aa67e3-5438-44ec-be4e-8eadf14cb41c",
   "metadata": {},
   "source": [
    "### \\_\\_main\\_\\_.py \n",
    "\n",
    "Some packages also have a main script that imports submodules and runs an analysis for the user.\n",
    "\n",
    "One option is to have a top-level script that includes:\n",
    "```\n",
    "if __name__ == __main__:\n",
    "  main()\n",
    "```\n",
    "\n",
    "but it could be ambiguous which script in your module is the main file (e.g. `run.py` or `pipeline.py`). \n",
    "\n",
    "Instead, include a `__main__.py` file and execute the package's top-level code with:\n",
    "\n",
    "\n",
    "```\n",
    "python -m datascience\n",
    "```\n",
    "\n",
    "or\n",
    "\n",
    "```\n",
    "python datascience\n",
    "```"
   ]
  },
  {
   "cell_type": "code",
   "execution_count": 2,
   "id": "6c3ddf6e-2461-48c6-acd0-83457ff10a03",
   "metadata": {},
   "outputs": [
    {
     "name": "stdout",
     "output_type": "stream",
     "text": [
      "Please provide input file\n",
      "\"input_file\" processed and analyzed\n"
     ]
    }
   ],
   "source": [
    "%%bash \n",
    "\n",
    "python -m datascience \n",
    "\"input_file\""
   ]
  },
  {
   "cell_type": "code",
   "execution_count": null,
   "id": "864af9fe-ed04-426d-bf68-5ab48aba83dc",
   "metadata": {},
   "outputs": [],
   "source": []
  }
 ],
 "metadata": {
  "kernelspec": {
   "display_name": "Python 3 (ipykernel)",
   "language": "python",
   "name": "python3"
  },
  "language_info": {
   "codemirror_mode": {
    "name": "ipython",
    "version": 3
   },
   "file_extension": ".py",
   "mimetype": "text/x-python",
   "name": "python",
   "nbconvert_exporter": "python",
   "pygments_lexer": "ipython3",
   "version": "3.9.7"
  }
 },
 "nbformat": 4,
 "nbformat_minor": 5
}
